{
 "cells": [
  {
   "cell_type": "code",
   "execution_count": 1,
   "id": "1c991f0f-c8a9-4811-bcb3-358e44d5a826",
   "metadata": {},
   "outputs": [],
   "source": [
    "import numpy as np\n",
    "from rdkit import Chem\n",
    "from rdkit.Chem import AllChem\n",
    "from rdkit.Chem import rdMolTransforms\n",
    "\n",
    "# Define functions for transformations\n",
    "def translate(x, y, z):\n",
    "    return np.array([[1, 0, 0, x],\n",
    "                     [0, 1, 0, y],\n",
    "                     [0, 0, 1, z],\n",
    "                     [0, 0, 0, 1]], dtype=np.double)\n",
    "\n",
    "def rotation_x(angle_degree):\n",
    "    angle_radian = angle_degree * np.pi / 180\n",
    "    return np.array([[1, 0, 0, 0],\n",
    "                     [0, np.cos(angle_radian), -np.sin(angle_radian), 0],\n",
    "                     [0, np.sin(angle_radian), np.cos(angle_radian), 0],\n",
    "                     [0, 0, 0, 1]], dtype=np.double)\n",
    "\n",
    "# Set SMILES for first molecule (benzene)\n",
    "first_smiles = \"c1ccccc1\"\n",
    "\n",
    "# Convert to RDKit molecule\n",
    "first_mol = Chem.MolFromSmiles(first_smiles)\n",
    "\n",
    "# Add hydrogens\n",
    "first_mol = Chem.AddHs(first_mol)\n",
    "\n",
    "# Generate a 3D conformer\n",
    "AllChem.EmbedMolecule(first_mol)\n",
    "\n",
    "# Optimize molecule\n",
    "AllChem.MMFFOptimizeMolecule(first_mol)\n",
    "\n",
    "# Orient the molecule\n",
    "Chem.rdMolTransforms.CanonicalizeConformer(first_mol.GetConformer())\n",
    "\n",
    "# Set SMILES for second molecule (benzene)\n",
    "second_smiles = \"C1(=C(C(=C(C(=C1F)F)F)F)F)F\"\n",
    "\n",
    "# Convert to RDKit molecule\n",
    "second_mol = Chem.MolFromSmiles(second_smiles)\n",
    "\n",
    "# Add hydrogens\n",
    "second_mol = Chem.AddHs(second_mol)\n",
    "\n",
    "# Generate a 3D conformer\n",
    "AllChem.EmbedMolecule(second_mol)\n",
    "\n",
    "# Optimize molecule\n",
    "AllChem.MMFFOptimizeMolecule(second_mol)\n",
    "\n",
    "# Orient the second molecule based on the first one\n",
    "center = Chem.rdMolTransforms.ComputeCentroid(first_mol.GetConformer())\n",
    "Chem.rdMolTransforms.CanonicalizeConformer(second_mol.GetConformer(), center=center)\n",
    "\n",
    "# Apply transformations: Rotate both benzene rings 90 degrees around the X-axis\n",
    "rdMolTransforms.TransformConformer(first_mol.GetConformer(0), rotation_x(90))\n",
    "rdMolTransforms.TransformConformer(second_mol.GetConformer(0), rotation_x(90))\n",
    "\n",
    "# Translate the second benzene ring 4 angstroms in the Y direction\n",
    "rdMolTransforms.TransformConformer(second_mol.GetConformer(0), translate(0, 4, 0))\n",
    "\n",
    "# Combine the two molecules\n",
    "dimer = Chem.CombineMols(first_mol, second_mol)\n",
    "\n",
    "# Save the molecule in XYZ format \n",
    "Chem.MolToXYZFile(dimer, \"florodimer_4.xyz\")\n"
   ]
  },
  {
   "cell_type": "code",
   "execution_count": 2,
   "id": "b525c91d-dd46-46c8-b9c1-ac6b5e043040",
   "metadata": {},
   "outputs": [
    {
     "data": {
      "image/png": "[encoded data removed]",
      "text/plain": [
       "<rdkit.Chem.rdchem.Mol at 0x11f3055b0>"
      ]
     },
     "execution_count": 2,
     "metadata": {},
     "output_type": "execute_result"
    }
   ],
   "source": [
    "dimer"
   ]
  },
  {
   "cell_type": "code",
   "execution_count": 3,
   "id": "586b7776-29c7-4825-bc6c-f4fe47b461d3",
   "metadata": {},
   "outputs": [
    {
     "name": "stderr",
     "output_type": "stream",
     "text": [
      "/Users/rpatel/miniconda3/lib/python3.12/site-packages/pyscf/dft/libxc.py:1110: UserWarning: Since PySCF-2.3, B3LYP (and B3P86) are changed to the VWN-RPA variant, corresponding to the original definition by Stephens et al. (issue 1480) and the same as the B3LYP functional in Gaussian. To restore the VWN5 definition, you can put the setting \"B3LYP_WITH_VWN5 = True\" in pyscf_conf.py\n",
      "  warnings.warn('Since PySCF-2.3, B3LYP (and B3P86) are changed to the VWN-RPA variant, '\n"
     ]
    },
    {
     "name": "stdout",
     "output_type": "stream",
     "text": [
      "converged SCF energy = -1045.47236207245\n"
     ]
    },
    {
     "data": {
      "text/plain": [
       "-1045.4723620724549"
      ]
     },
     "execution_count": 3,
     "metadata": {},
     "output_type": "execute_result"
    }
   ],
   "source": [
    "# import \n",
    "from pyscf import gto, scf\n",
    "\n",
    "\n",
    "mol = gto.M(atom=\"florodimer_4.xyz\")\n",
    "\n",
    "# set basis set\n",
    "mol.basis = \"6-31G*\"\n",
    "\n",
    "# set the functional\n",
    "mf = mol.KS()\n",
    "mf.xc = 'b3lyp'\n",
    "\n",
    "# run energy calculations\n",
    "mf.kernel() "
   ]
  },
  {
   "cell_type": "code",
   "execution_count": 4,
   "id": "265c2a84-143a-406b-a667-099fbb74363a",
   "metadata": {},
   "outputs": [
    {
     "data": {
      "text/plain": [
       "132"
      ]
     },
     "execution_count": 4,
     "metadata": {},
     "output_type": "execute_result"
    }
   ],
   "source": [
    "# total number of electrons\n",
    "n = mol.tot_electrons()\n",
    "n"
   ]
  },
  {
   "cell_type": "code",
   "execution_count": 5,
   "id": "443b9927-6e48-42b5-931b-7674d34bbcc6",
   "metadata": {},
   "outputs": [
    {
     "data": {
      "text/plain": [
       "array([-24.43787827, -24.43786638, -24.43786311, -24.4378348 ,\n",
       "       -24.4378317 , -24.43779284, -10.08104242, -10.08069891,\n",
       "       -10.08069779, -10.08007597, -10.08007484, -10.07958681,\n",
       "       -10.00845161, -10.00811039, -10.00810773, -10.00750747,\n",
       "       -10.00750483, -10.00703943,  -1.16344786,  -1.15563325,\n",
       "        -1.15563036,  -1.14121867,  -1.1412157 ,  -1.13404057,\n",
       "        -0.82509419,  -0.8104616 ,  -0.70454084,  -0.70453876,\n",
       "        -0.69959096,  -0.69958836,  -0.57333981,  -0.57333927,\n",
       "        -0.56331298,  -0.56331218,  -0.50741185,  -0.48773451,\n",
       "        -0.46245767,  -0.43206756,  -0.42732807,  -0.42430164,\n",
       "        -0.40621519,  -0.40621198,  -0.39862013,  -0.384654  ,\n",
       "        -0.3846522 ,  -0.38205815,  -0.38205425,  -0.3590942 ,\n",
       "        -0.35909252,  -0.31879867,  -0.30137488,  -0.30137449,\n",
       "        -0.30061513,  -0.3006119 ,  -0.28759535,  -0.26903715,\n",
       "        -0.26903665,  -0.26397209,  -0.22940496,  -0.22940438,\n",
       "        -0.19875112,  -0.19862058,  -0.19861972,  -0.19285094,\n",
       "        -0.13526474,  -0.13526248,   0.08867119,   0.08867178,\n",
       "         0.09727897,   0.09727953,   0.19499713,   0.25369143,\n",
       "         0.25624893,   0.27803358,   0.27803644,   0.34491912,\n",
       "         0.34581043,   0.39771332,   0.39771449,   0.39967341,\n",
       "         0.3996757 ,   0.46273414,   0.4722764 ,   0.47227698,\n",
       "         0.53677299,   0.53677549,   0.58493353,   0.58493439,\n",
       "         0.59330631,   0.59330766,   0.60450401,   0.60450533,\n",
       "         0.7428767 ,   0.75996661,   0.78204995,   0.81846657])"
      ]
     },
     "execution_count": 5,
     "metadata": {},
     "output_type": "execute_result"
    }
   ],
   "source": [
    "# display all orbitals\n",
    "mf.mo_energy"
   ]
  },
  {
   "cell_type": "code",
   "execution_count": 6,
   "id": "45d96936-e74f-437d-b725-5c9ab6b70dbd",
   "metadata": {},
   "outputs": [
    {
     "data": {
      "text/plain": [
       "-0.13526247900424324"
      ]
     },
     "execution_count": 6,
     "metadata": {},
     "output_type": "execute_result"
    }
   ],
   "source": [
    "# HOMO is n/2 orbital. But python index starts from 0, so need to substract -1\n",
    "homo = mf.mo_energy[int(n/2) - 1]\n",
    "homo"
   ]
  },
  {
   "cell_type": "code",
   "execution_count": 7,
   "id": "3b24984b-0b72-4bd0-af7f-3889f59c60fc",
   "metadata": {},
   "outputs": [
    {
     "data": {
      "text/plain": [
       "-3.6806814211760646"
      ]
     },
     "execution_count": 7,
     "metadata": {},
     "output_type": "execute_result"
    }
   ],
   "source": [
    "# the unit of energy is Hartree. To convert to eV\n",
    "homo1=homo * 27.2114\n",
    "homo1"
   ]
  },
  {
   "cell_type": "code",
   "execution_count": 8,
   "id": "f6a8f826-5ad0-4f4f-994f-ee87991817f2",
   "metadata": {},
   "outputs": [
    {
     "data": {
      "text/plain": [
       "0.08867119"
      ]
     },
     "execution_count": 8,
     "metadata": {},
     "output_type": "execute_result"
    }
   ],
   "source": [
    "lumo = 0.08867119\n",
    "lumo"
   ]
  },
  {
   "cell_type": "code",
   "execution_count": 9,
   "id": "fb44f083-5ec4-4711-936a-06beabc537aa",
   "metadata": {},
   "outputs": [
    {
     "data": {
      "text/plain": [
       "2.412867219566"
      ]
     },
     "execution_count": 9,
     "metadata": {},
     "output_type": "execute_result"
    }
   ],
   "source": [
    "lumo1=lumo*27.2114\n",
    "lumo1"
   ]
  },
  {
   "cell_type": "code",
   "execution_count": 10,
   "id": "8f0b65f2-0d66-445f-a283-d1d7450de7cd",
   "metadata": {},
   "outputs": [
    {
     "data": {
      "text/plain": [
       "6.093548640742064"
      ]
     },
     "execution_count": 10,
     "metadata": {},
     "output_type": "execute_result"
    }
   ],
   "source": [
    "gap = lumo1-homo1\n",
    "gap"
   ]
  },
  {
   "cell_type": "code",
   "execution_count": 11,
   "id": "bc32c554-6045-4d0a-8935-1b4500b69913",
   "metadata": {},
   "outputs": [],
   "source": [
    "# import the definitions\n",
    "from pyscf.tools import molden\n",
    "\n",
    "# we will write the surface to molden files\n",
    "with open('florobenzene_dimer_4.molden', 'w') as f1:\n",
    "    molden.header(mol, f1)\n",
    "    molden.orbital_coeff(mol, f1, mf.mo_coeff, ene=mf.mo_energy, occ=mf.mo_occ)"
   ]
  },
  {
   "cell_type": "code",
   "execution_count": null,
   "id": "bde7cae4-6785-4e23-bf6d-52c3a60d22af",
   "metadata": {},
   "outputs": [],
   "source": []
  }
 ],
 "metadata": {
  "kernelspec": {
   "display_name": "Python 3 (ipykernel)",
   "language": "python",
   "name": "python3"
  },
  "language_info": {
   "codemirror_mode": {
    "name": "ipython",
    "version": 3
   },
   "file_extension": ".py",
   "mimetype": "text/x-python",
   "name": "python",
   "nbconvert_exporter": "python",
   "pygments_lexer": "ipython3",
   "version": "3.12.3"
  }
 },
 "nbformat": 4,
 "nbformat_minor": 5
}
